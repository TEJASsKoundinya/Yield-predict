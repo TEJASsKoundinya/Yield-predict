{
 "cells": [
  {
   "cell_type": "code",
   "execution_count": 1,
   "id": "5779a2f8",
   "metadata": {
    "_cell_guid": "b1076dfc-b9ad-4769-8c92-a6c4dae69d19",
    "_uuid": "8f2839f25d086af736a60e9eeb907d3b93b6e0e5",
    "execution": {
     "iopub.execute_input": "2022-09-17T06:52:06.887932Z",
     "iopub.status.busy": "2022-09-17T06:52:06.887329Z",
     "iopub.status.idle": "2022-09-17T06:52:06.901861Z",
     "shell.execute_reply": "2022-09-17T06:52:06.900729Z"
    },
    "papermill": {
     "duration": 0.024484,
     "end_time": "2022-09-17T06:52:06.904703",
     "exception": false,
     "start_time": "2022-09-17T06:52:06.880219",
     "status": "completed"
    },
    "tags": []
   },
   "outputs": [],
   "source": [
    "import pandas as pd\n",
    "import numpy as np\n",
    "import matplotlib.pyplot as plt\n",
    "import statistics"
   ]
  },
  {
   "cell_type": "code",
   "execution_count": 2,
   "id": "5d153bbc",
   "metadata": {
    "execution": {
     "iopub.execute_input": "2022-09-17T06:52:06.914521Z",
     "iopub.status.busy": "2022-09-17T06:52:06.913976Z",
     "iopub.status.idle": "2022-09-17T06:52:06.932257Z",
     "shell.execute_reply": "2022-09-17T06:52:06.931362Z"
    },
    "papermill": {
     "duration": 0.025892,
     "end_time": "2022-09-17T06:52:06.934754",
     "exception": false,
     "start_time": "2022-09-17T06:52:06.908862",
     "status": "completed"
    },
    "tags": []
   },
   "outputs": [],
   "source": [
    "Data = pd.read_csv(\"../input/treelog/data_final.csv\")"
   ]
  },
  {
   "cell_type": "code",
   "execution_count": 3,
   "id": "1d396af8",
   "metadata": {
    "execution": {
     "iopub.execute_input": "2022-09-17T06:52:06.944963Z",
     "iopub.status.busy": "2022-09-17T06:52:06.944232Z",
     "iopub.status.idle": "2022-09-17T06:52:06.983218Z",
     "shell.execute_reply": "2022-09-17T06:52:06.982074Z"
    },
    "papermill": {
     "duration": 0.047605,
     "end_time": "2022-09-17T06:52:06.986478",
     "exception": false,
     "start_time": "2022-09-17T06:52:06.938873",
     "status": "completed"
    },
    "tags": []
   },
   "outputs": [
    {
     "data": {
      "text/html": [
       "<div>\n",
       "<style scoped>\n",
       "    .dataframe tbody tr th:only-of-type {\n",
       "        vertical-align: middle;\n",
       "    }\n",
       "\n",
       "    .dataframe tbody tr th {\n",
       "        vertical-align: top;\n",
       "    }\n",
       "\n",
       "    .dataframe thead th {\n",
       "        text-align: right;\n",
       "    }\n",
       "</style>\n",
       "<table border=\"1\" class=\"dataframe\">\n",
       "  <thead>\n",
       "    <tr style=\"text-align: right;\">\n",
       "      <th></th>\n",
       "      <th>row</th>\n",
       "      <th>tree no</th>\n",
       "      <th>diameterr</th>\n",
       "      <th>height</th>\n",
       "      <th>pomogranates.no</th>\n",
       "    </tr>\n",
       "  </thead>\n",
       "  <tbody>\n",
       "    <tr>\n",
       "      <th>0</th>\n",
       "      <td>-6.0</td>\n",
       "      <td>2.0</td>\n",
       "      <td>3.2331</td>\n",
       "      <td>2.3459</td>\n",
       "      <td>106.0</td>\n",
       "    </tr>\n",
       "    <tr>\n",
       "      <th>1</th>\n",
       "      <td>-6.0</td>\n",
       "      <td>3.0</td>\n",
       "      <td>3.7511</td>\n",
       "      <td>3.1948</td>\n",
       "      <td>63.0</td>\n",
       "    </tr>\n",
       "    <tr>\n",
       "      <th>2</th>\n",
       "      <td>-6.0</td>\n",
       "      <td>4.0</td>\n",
       "      <td>3.5868</td>\n",
       "      <td>1.8143</td>\n",
       "      <td>65.0</td>\n",
       "    </tr>\n",
       "    <tr>\n",
       "      <th>3</th>\n",
       "      <td>-6.0</td>\n",
       "      <td>5.0</td>\n",
       "      <td>3.2411</td>\n",
       "      <td>2.1539</td>\n",
       "      <td>58.0</td>\n",
       "    </tr>\n",
       "    <tr>\n",
       "      <th>4</th>\n",
       "      <td>-6.0</td>\n",
       "      <td>6.0</td>\n",
       "      <td>3.4164</td>\n",
       "      <td>3.1909</td>\n",
       "      <td>96.0</td>\n",
       "    </tr>\n",
       "    <tr>\n",
       "      <th>...</th>\n",
       "      <td>...</td>\n",
       "      <td>...</td>\n",
       "      <td>...</td>\n",
       "      <td>...</td>\n",
       "      <td>...</td>\n",
       "    </tr>\n",
       "    <tr>\n",
       "      <th>111</th>\n",
       "      <td>7.0</td>\n",
       "      <td>4.0</td>\n",
       "      <td>3.4308</td>\n",
       "      <td>2.2483</td>\n",
       "      <td>75.0</td>\n",
       "    </tr>\n",
       "    <tr>\n",
       "      <th>112</th>\n",
       "      <td>7.0</td>\n",
       "      <td>5.0</td>\n",
       "      <td>3.3587</td>\n",
       "      <td>2.0345</td>\n",
       "      <td>101.0</td>\n",
       "    </tr>\n",
       "    <tr>\n",
       "      <th>113</th>\n",
       "      <td>7.0</td>\n",
       "      <td>6.0</td>\n",
       "      <td>3.3909</td>\n",
       "      <td>2.4654</td>\n",
       "      <td>109.0</td>\n",
       "    </tr>\n",
       "    <tr>\n",
       "      <th>114</th>\n",
       "      <td>7.0</td>\n",
       "      <td>7.0</td>\n",
       "      <td>3.2935</td>\n",
       "      <td>2.1235</td>\n",
       "      <td>98.0</td>\n",
       "    </tr>\n",
       "    <tr>\n",
       "      <th>115</th>\n",
       "      <td>7.0</td>\n",
       "      <td>8.0</td>\n",
       "      <td>3.2604</td>\n",
       "      <td>2.4529</td>\n",
       "      <td>86.0</td>\n",
       "    </tr>\n",
       "  </tbody>\n",
       "</table>\n",
       "<p>116 rows × 5 columns</p>\n",
       "</div>"
      ],
      "text/plain": [
       "     row  tree no  diameterr  height  pomogranates.no\n",
       "0   -6.0      2.0     3.2331  2.3459            106.0\n",
       "1   -6.0      3.0     3.7511  3.1948             63.0\n",
       "2   -6.0      4.0     3.5868  1.8143             65.0\n",
       "3   -6.0      5.0     3.2411  2.1539             58.0\n",
       "4   -6.0      6.0     3.4164  3.1909             96.0\n",
       "..   ...      ...        ...     ...              ...\n",
       "111  7.0      4.0     3.4308  2.2483             75.0\n",
       "112  7.0      5.0     3.3587  2.0345            101.0\n",
       "113  7.0      6.0     3.3909  2.4654            109.0\n",
       "114  7.0      7.0     3.2935  2.1235             98.0\n",
       "115  7.0      8.0     3.2604  2.4529             86.0\n",
       "\n",
       "[116 rows x 5 columns]"
      ]
     },
     "execution_count": 3,
     "metadata": {},
     "output_type": "execute_result"
    }
   ],
   "source": [
    "Data = Data.dropna()\n",
    "Data"
   ]
  },
  {
   "cell_type": "code",
   "execution_count": 4,
   "id": "4df8ff74",
   "metadata": {
    "execution": {
     "iopub.execute_input": "2022-09-17T06:52:07.000154Z",
     "iopub.status.busy": "2022-09-17T06:52:06.999379Z",
     "iopub.status.idle": "2022-09-17T06:52:07.008561Z",
     "shell.execute_reply": "2022-09-17T06:52:07.007397Z"
    },
    "papermill": {
     "duration": 0.017283,
     "end_time": "2022-09-17T06:52:07.010871",
     "exception": false,
     "start_time": "2022-09-17T06:52:06.993588",
     "status": "completed"
    },
    "tags": []
   },
   "outputs": [
    {
     "data": {
      "text/plain": [
       "array([106.,  63.,  65.,  58.,  96.,  82.,  73., 107.,  92., 121., 105.,\n",
       "        77.,  51.,  88.,  76.,  82.,  72.,  91., 111.,  92., 105.,  78.,\n",
       "       103., 110., 100., 138.,  95., 115., 100.,  75.,  82.,  70., 118.,\n",
       "       100.,  84., 150., 100., 100., 125.,  95., 140.,  94., 100., 114.,\n",
       "        90.,  80.,  88.,  72., 100., 146.,  76.,  67., 135., 106., 125.,\n",
       "       110.,  70.,  75.,  85., 100., 130., 112., 120., 125.,  90.,  97.,\n",
       "        18.,  80.,  45.,  90., 102., 145.,  72., 137.,  73.,  85.,  83.,\n",
       "        80., 110., 100., 131., 116., 122., 140., 138., 161., 174., 108.,\n",
       "       216., 191., 185.,  92., 128., 131., 142., 140., 126., 100.,  82.,\n",
       "        83.,  95.,  99., 124.,  82., 127., 117., 128., 111.,  98., 103.,\n",
       "        89.,  75., 101., 109.,  98.,  86.])"
      ]
     },
     "execution_count": 4,
     "metadata": {},
     "output_type": "execute_result"
    }
   ],
   "source": [
    "y = Data.iloc[:, -1].values\n",
    "y"
   ]
  },
  {
   "cell_type": "code",
   "execution_count": 5,
   "id": "ca3022ee",
   "metadata": {
    "execution": {
     "iopub.execute_input": "2022-09-17T06:52:07.021434Z",
     "iopub.status.busy": "2022-09-17T06:52:07.021012Z",
     "iopub.status.idle": "2022-09-17T06:52:07.040692Z",
     "shell.execute_reply": "2022-09-17T06:52:07.039440Z"
    },
    "papermill": {
     "duration": 0.027873,
     "end_time": "2022-09-17T06:52:07.043118",
     "exception": false,
     "start_time": "2022-09-17T06:52:07.015245",
     "status": "completed"
    },
    "tags": []
   },
   "outputs": [
    {
     "data": {
      "text/html": [
       "<div>\n",
       "<style scoped>\n",
       "    .dataframe tbody tr th:only-of-type {\n",
       "        vertical-align: middle;\n",
       "    }\n",
       "\n",
       "    .dataframe tbody tr th {\n",
       "        vertical-align: top;\n",
       "    }\n",
       "\n",
       "    .dataframe thead th {\n",
       "        text-align: right;\n",
       "    }\n",
       "</style>\n",
       "<table border=\"1\" class=\"dataframe\">\n",
       "  <thead>\n",
       "    <tr style=\"text-align: right;\">\n",
       "      <th></th>\n",
       "      <th>row</th>\n",
       "      <th>tree no</th>\n",
       "      <th>diameterr</th>\n",
       "      <th>height</th>\n",
       "    </tr>\n",
       "  </thead>\n",
       "  <tbody>\n",
       "    <tr>\n",
       "      <th>0</th>\n",
       "      <td>-6.0</td>\n",
       "      <td>2.0</td>\n",
       "      <td>3.2331</td>\n",
       "      <td>2.3459</td>\n",
       "    </tr>\n",
       "    <tr>\n",
       "      <th>1</th>\n",
       "      <td>-6.0</td>\n",
       "      <td>3.0</td>\n",
       "      <td>3.7511</td>\n",
       "      <td>3.1948</td>\n",
       "    </tr>\n",
       "    <tr>\n",
       "      <th>2</th>\n",
       "      <td>-6.0</td>\n",
       "      <td>4.0</td>\n",
       "      <td>3.5868</td>\n",
       "      <td>1.8143</td>\n",
       "    </tr>\n",
       "    <tr>\n",
       "      <th>3</th>\n",
       "      <td>-6.0</td>\n",
       "      <td>5.0</td>\n",
       "      <td>3.2411</td>\n",
       "      <td>2.1539</td>\n",
       "    </tr>\n",
       "    <tr>\n",
       "      <th>4</th>\n",
       "      <td>-6.0</td>\n",
       "      <td>6.0</td>\n",
       "      <td>3.4164</td>\n",
       "      <td>3.1909</td>\n",
       "    </tr>\n",
       "    <tr>\n",
       "      <th>...</th>\n",
       "      <td>...</td>\n",
       "      <td>...</td>\n",
       "      <td>...</td>\n",
       "      <td>...</td>\n",
       "    </tr>\n",
       "    <tr>\n",
       "      <th>111</th>\n",
       "      <td>7.0</td>\n",
       "      <td>4.0</td>\n",
       "      <td>3.4308</td>\n",
       "      <td>2.2483</td>\n",
       "    </tr>\n",
       "    <tr>\n",
       "      <th>112</th>\n",
       "      <td>7.0</td>\n",
       "      <td>5.0</td>\n",
       "      <td>3.3587</td>\n",
       "      <td>2.0345</td>\n",
       "    </tr>\n",
       "    <tr>\n",
       "      <th>113</th>\n",
       "      <td>7.0</td>\n",
       "      <td>6.0</td>\n",
       "      <td>3.3909</td>\n",
       "      <td>2.4654</td>\n",
       "    </tr>\n",
       "    <tr>\n",
       "      <th>114</th>\n",
       "      <td>7.0</td>\n",
       "      <td>7.0</td>\n",
       "      <td>3.2935</td>\n",
       "      <td>2.1235</td>\n",
       "    </tr>\n",
       "    <tr>\n",
       "      <th>115</th>\n",
       "      <td>7.0</td>\n",
       "      <td>8.0</td>\n",
       "      <td>3.2604</td>\n",
       "      <td>2.4529</td>\n",
       "    </tr>\n",
       "  </tbody>\n",
       "</table>\n",
       "<p>116 rows × 4 columns</p>\n",
       "</div>"
      ],
      "text/plain": [
       "     row  tree no  diameterr  height\n",
       "0   -6.0      2.0     3.2331  2.3459\n",
       "1   -6.0      3.0     3.7511  3.1948\n",
       "2   -6.0      4.0     3.5868  1.8143\n",
       "3   -6.0      5.0     3.2411  2.1539\n",
       "4   -6.0      6.0     3.4164  3.1909\n",
       "..   ...      ...        ...     ...\n",
       "111  7.0      4.0     3.4308  2.2483\n",
       "112  7.0      5.0     3.3587  2.0345\n",
       "113  7.0      6.0     3.3909  2.4654\n",
       "114  7.0      7.0     3.2935  2.1235\n",
       "115  7.0      8.0     3.2604  2.4529\n",
       "\n",
       "[116 rows x 4 columns]"
      ]
     },
     "execution_count": 5,
     "metadata": {},
     "output_type": "execute_result"
    }
   ],
   "source": [
    "x = Data.drop(['pomogranates.no'], axis=1)\n",
    "x\n"
   ]
  },
  {
   "cell_type": "code",
   "execution_count": 6,
   "id": "22615c4a",
   "metadata": {
    "execution": {
     "iopub.execute_input": "2022-09-17T06:52:07.053786Z",
     "iopub.status.busy": "2022-09-17T06:52:07.053418Z",
     "iopub.status.idle": "2022-09-17T06:52:07.295103Z",
     "shell.execute_reply": "2022-09-17T06:52:07.294166Z"
    },
    "papermill": {
     "duration": 0.249887,
     "end_time": "2022-09-17T06:52:07.297529",
     "exception": false,
     "start_time": "2022-09-17T06:52:07.047642",
     "status": "completed"
    },
    "tags": []
   },
   "outputs": [
    {
     "data": {
      "text/plain": [
       "<matplotlib.collections.PathCollection at 0x7f7bfdb7b5d0>"
      ]
     },
     "execution_count": 6,
     "metadata": {},
     "output_type": "execute_result"
    },
    {
     "data": {
      "image/png": "[encoded data removed]",
      "text/plain": [
       "<Figure size 432x288 with 1 Axes>"
      ]
     },
     "metadata": {
      "needs_background": "light"
     },
     "output_type": "display_data"
    }
   ],
   "source": [
    "plt.scatter(x['diameterr'],y)\n",
    "plt.scatter(x['height'],y)"
   ]
  },
  {
   "cell_type": "code",
   "execution_count": 7,
   "id": "52b126c6",
   "metadata": {
    "execution": {
     "iopub.execute_input": "2022-09-17T06:52:07.309148Z",
     "iopub.status.busy": "2022-09-17T06:52:07.308770Z",
     "iopub.status.idle": "2022-09-17T06:52:08.381887Z",
     "shell.execute_reply": "2022-09-17T06:52:08.380864Z"
    },
    "papermill": {
     "duration": 1.082015,
     "end_time": "2022-09-17T06:52:08.384533",
     "exception": false,
     "start_time": "2022-09-17T06:52:07.302518",
     "status": "completed"
    },
    "tags": []
   },
   "outputs": [],
   "source": [
    "from sklearn.model_selection import train_test_split\n",
    "x_train, x_test, y_train, y_test = train_test_split(x, y, test_size = 0.15, random_state = 0)"
   ]
  },
  {
   "cell_type": "code",
   "execution_count": 8,
   "id": "c94d260c",
   "metadata": {
    "execution": {
     "iopub.execute_input": "2022-09-17T06:52:08.396144Z",
     "iopub.status.busy": "2022-09-17T06:52:08.395758Z",
     "iopub.status.idle": "2022-09-17T06:52:08.628702Z",
     "shell.execute_reply": "2022-09-17T06:52:08.627639Z"
    },
    "papermill": {
     "duration": 0.241699,
     "end_time": "2022-09-17T06:52:08.631299",
     "exception": false,
     "start_time": "2022-09-17T06:52:08.389600",
     "status": "completed"
    },
    "tags": []
   },
   "outputs": [
    {
     "data": {
      "text/plain": [
       "RandomForestRegressor(n_estimators=12, random_state=0)"
      ]
     },
     "execution_count": 8,
     "metadata": {},
     "output_type": "execute_result"
    }
   ],
   "source": [
    "from sklearn.ensemble import RandomForestRegressor\n",
    "  \n",
    " # create regressor object\n",
    "regressor = RandomForestRegressor(n_estimators = 12, random_state = 0)\n",
    "  \n",
    "# fit the regressor with x and y data\n",
    "regressor.fit(x, y)  \n",
    "## regressor = RandomForestRegressor(n_estimators = 10, max_depth = 10, random_state = 101)\n",
    "## regressor.fit(x_train, y_train.ravel())"
   ]
  },
  {
   "cell_type": "code",
   "execution_count": 9,
   "id": "62786471",
   "metadata": {
    "execution": {
     "iopub.execute_input": "2022-09-17T06:52:08.643382Z",
     "iopub.status.busy": "2022-09-17T06:52:08.642948Z",
     "iopub.status.idle": "2022-09-17T06:52:08.652360Z",
     "shell.execute_reply": "2022-09-17T06:52:08.651232Z"
    },
    "papermill": {
     "duration": 0.018151,
     "end_time": "2022-09-17T06:52:08.654708",
     "exception": false,
     "start_time": "2022-09-17T06:52:08.636557",
     "status": "completed"
    },
    "tags": []
   },
   "outputs": [],
   "source": [
    "Y_pred = regressor.predict(x_test)  # test the output by changing values"
   ]
  },
  {
   "cell_type": "code",
   "execution_count": 10,
   "id": "2cc893dc",
   "metadata": {
    "execution": {
     "iopub.execute_input": "2022-09-17T06:52:08.666311Z",
     "iopub.status.busy": "2022-09-17T06:52:08.665948Z",
     "iopub.status.idle": "2022-09-17T06:52:08.682352Z",
     "shell.execute_reply": "2022-09-17T06:52:08.681221Z"
    },
    "papermill": {
     "duration": 0.024758,
     "end_time": "2022-09-17T06:52:08.684590",
     "exception": false,
     "start_time": "2022-09-17T06:52:08.659832",
     "status": "completed"
    },
    "tags": []
   },
   "outputs": [
    {
     "data": {
      "text/html": [
       "<div>\n",
       "<style scoped>\n",
       "    .dataframe tbody tr th:only-of-type {\n",
       "        vertical-align: middle;\n",
       "    }\n",
       "\n",
       "    .dataframe tbody tr th {\n",
       "        vertical-align: top;\n",
       "    }\n",
       "\n",
       "    .dataframe thead th {\n",
       "        text-align: right;\n",
       "    }\n",
       "</style>\n",
       "<table border=\"1\" class=\"dataframe\">\n",
       "  <thead>\n",
       "    <tr style=\"text-align: right;\">\n",
       "      <th></th>\n",
       "      <th>row</th>\n",
       "      <th>tree no</th>\n",
       "      <th>diameterr</th>\n",
       "      <th>height</th>\n",
       "    </tr>\n",
       "  </thead>\n",
       "  <tbody>\n",
       "    <tr>\n",
       "      <th>10</th>\n",
       "      <td>-7.0</td>\n",
       "      <td>2.0</td>\n",
       "      <td>3.3529</td>\n",
       "      <td>2.3271</td>\n",
       "    </tr>\n",
       "    <tr>\n",
       "      <th>74</th>\n",
       "      <td>23.0</td>\n",
       "      <td>6.0</td>\n",
       "      <td>2.3074</td>\n",
       "      <td>1.7136</td>\n",
       "    </tr>\n",
       "    <tr>\n",
       "      <th>66</th>\n",
       "      <td>22.0</td>\n",
       "      <td>8.0</td>\n",
       "      <td>2.8557</td>\n",
       "      <td>2.2039</td>\n",
       "    </tr>\n",
       "    <tr>\n",
       "      <th>51</th>\n",
       "      <td>21.0</td>\n",
       "      <td>3.0</td>\n",
       "      <td>3.2227</td>\n",
       "      <td>2.1312</td>\n",
       "    </tr>\n",
       "    <tr>\n",
       "      <th>7</th>\n",
       "      <td>-6.0</td>\n",
       "      <td>9.0</td>\n",
       "      <td>3.4164</td>\n",
       "      <td>1.7538</td>\n",
       "    </tr>\n",
       "    <tr>\n",
       "      <th>78</th>\n",
       "      <td>23.0</td>\n",
       "      <td>10.0</td>\n",
       "      <td>2.7552</td>\n",
       "      <td>2.8379</td>\n",
       "    </tr>\n",
       "    <tr>\n",
       "      <th>92</th>\n",
       "      <td>4.0</td>\n",
       "      <td>2.0</td>\n",
       "      <td>2.8502</td>\n",
       "      <td>1.8565</td>\n",
       "    </tr>\n",
       "    <tr>\n",
       "      <th>90</th>\n",
       "      <td>3.0</td>\n",
       "      <td>6.0</td>\n",
       "      <td>3.4543</td>\n",
       "      <td>1.9305</td>\n",
       "    </tr>\n",
       "    <tr>\n",
       "      <th>107</th>\n",
       "      <td>6.0</td>\n",
       "      <td>5.0</td>\n",
       "      <td>3.7367</td>\n",
       "      <td>2.5864</td>\n",
       "    </tr>\n",
       "    <tr>\n",
       "      <th>62</th>\n",
       "      <td>22.0</td>\n",
       "      <td>4.0</td>\n",
       "      <td>3.1940</td>\n",
       "      <td>1.7682</td>\n",
       "    </tr>\n",
       "    <tr>\n",
       "      <th>30</th>\n",
       "      <td>-9.0</td>\n",
       "      <td>2.0</td>\n",
       "      <td>3.2985</td>\n",
       "      <td>2.1456</td>\n",
       "    </tr>\n",
       "    <tr>\n",
       "      <th>2</th>\n",
       "      <td>-6.0</td>\n",
       "      <td>4.0</td>\n",
       "      <td>3.5868</td>\n",
       "      <td>1.8143</td>\n",
       "    </tr>\n",
       "    <tr>\n",
       "      <th>94</th>\n",
       "      <td>4.0</td>\n",
       "      <td>4.0</td>\n",
       "      <td>3.0896</td>\n",
       "      <td>3.4960</td>\n",
       "    </tr>\n",
       "    <tr>\n",
       "      <th>22</th>\n",
       "      <td>-8.0</td>\n",
       "      <td>4.0</td>\n",
       "      <td>3.0754</td>\n",
       "      <td>2.4861</td>\n",
       "    </tr>\n",
       "    <tr>\n",
       "      <th>43</th>\n",
       "      <td>20.0</td>\n",
       "      <td>5.0</td>\n",
       "      <td>3.2603</td>\n",
       "      <td>2.0861</td>\n",
       "    </tr>\n",
       "    <tr>\n",
       "      <th>84</th>\n",
       "      <td>2.0</td>\n",
       "      <td>6.0</td>\n",
       "      <td>3.0231</td>\n",
       "      <td>2.3121</td>\n",
       "    </tr>\n",
       "    <tr>\n",
       "      <th>24</th>\n",
       "      <td>-8.0</td>\n",
       "      <td>6.0</td>\n",
       "      <td>3.3162</td>\n",
       "      <td>3.8696</td>\n",
       "    </tr>\n",
       "    <tr>\n",
       "      <th>73</th>\n",
       "      <td>23.0</td>\n",
       "      <td>5.0</td>\n",
       "      <td>3.1364</td>\n",
       "      <td>2.6103</td>\n",
       "    </tr>\n",
       "  </tbody>\n",
       "</table>\n",
       "</div>"
      ],
      "text/plain": [
       "      row  tree no  diameterr  height\n",
       "10   -7.0      2.0     3.3529  2.3271\n",
       "74   23.0      6.0     2.3074  1.7136\n",
       "66   22.0      8.0     2.8557  2.2039\n",
       "51   21.0      3.0     3.2227  2.1312\n",
       "7    -6.0      9.0     3.4164  1.7538\n",
       "78   23.0     10.0     2.7552  2.8379\n",
       "92    4.0      2.0     2.8502  1.8565\n",
       "90    3.0      6.0     3.4543  1.9305\n",
       "107   6.0      5.0     3.7367  2.5864\n",
       "62   22.0      4.0     3.1940  1.7682\n",
       "30   -9.0      2.0     3.2985  2.1456\n",
       "2    -6.0      4.0     3.5868  1.8143\n",
       "94    4.0      4.0     3.0896  3.4960\n",
       "22   -8.0      4.0     3.0754  2.4861\n",
       "43   20.0      5.0     3.2603  2.0861\n",
       "84    2.0      6.0     3.0231  2.3121\n",
       "24   -8.0      6.0     3.3162  3.8696\n",
       "73   23.0      5.0     3.1364  2.6103"
      ]
     },
     "execution_count": 10,
     "metadata": {},
     "output_type": "execute_result"
    }
   ],
   "source": [
    "x_test"
   ]
  },
  {
   "cell_type": "code",
   "execution_count": 11,
   "id": "4e6f46a6",
   "metadata": {
    "execution": {
     "iopub.execute_input": "2022-09-17T06:52:08.697617Z",
     "iopub.status.busy": "2022-09-17T06:52:08.697221Z",
     "iopub.status.idle": "2022-09-17T06:52:08.704286Z",
     "shell.execute_reply": "2022-09-17T06:52:08.703216Z"
    },
    "papermill": {
     "duration": 0.016424,
     "end_time": "2022-09-17T06:52:08.706446",
     "exception": false,
     "start_time": "2022-09-17T06:52:08.690022",
     "status": "completed"
    },
    "tags": []
   },
   "outputs": [
    {
     "data": {
      "text/plain": [
       "array([105.,  73.,  18.,  67., 107., 110., 128., 185., 111., 120.,  82.,\n",
       "        65., 142., 103., 114., 138., 100., 137.])"
      ]
     },
     "execution_count": 11,
     "metadata": {},
     "output_type": "execute_result"
    }
   ],
   "source": [
    "y_test"
   ]
  },
  {
   "cell_type": "code",
   "execution_count": 12,
   "id": "25714809",
   "metadata": {
    "execution": {
     "iopub.execute_input": "2022-09-17T06:52:08.719399Z",
     "iopub.status.busy": "2022-09-17T06:52:08.718367Z",
     "iopub.status.idle": "2022-09-17T06:52:08.726441Z",
     "shell.execute_reply": "2022-09-17T06:52:08.725400Z"
    },
    "papermill": {
     "duration": 0.016854,
     "end_time": "2022-09-17T06:52:08.728673",
     "exception": false,
     "start_time": "2022-09-17T06:52:08.711819",
     "status": "completed"
    },
    "tags": []
   },
   "outputs": [
    {
     "data": {
      "text/plain": [
       "array([100.58333333,  84.5       ,  35.41666667,  88.91666667,\n",
       "       103.16666667,  91.91666667, 140.91666667, 165.5       ,\n",
       "       119.75      , 118.5       ,  87.75      ,  71.08333333,\n",
       "       135.        ,  98.58333333, 111.75      , 131.5       ,\n",
       "        91.75      , 137.5       ])"
      ]
     },
     "execution_count": 12,
     "metadata": {},
     "output_type": "execute_result"
    }
   ],
   "source": [
    "Y_pred"
   ]
  },
  {
   "cell_type": "code",
   "execution_count": 13,
   "id": "e9e362ca",
   "metadata": {
    "execution": {
     "iopub.execute_input": "2022-09-17T06:52:08.742024Z",
     "iopub.status.busy": "2022-09-17T06:52:08.741076Z",
     "iopub.status.idle": "2022-09-17T06:52:08.755472Z",
     "shell.execute_reply": "2022-09-17T06:52:08.754464Z"
    },
    "papermill": {
     "duration": 0.023274,
     "end_time": "2022-09-17T06:52:08.757691",
     "exception": false,
     "start_time": "2022-09-17T06:52:08.734417",
     "status": "completed"
    },
    "tags": []
   },
   "outputs": [
    {
     "data": {
      "text/html": [
       "<div>\n",
       "<style scoped>\n",
       "    .dataframe tbody tr th:only-of-type {\n",
       "        vertical-align: middle;\n",
       "    }\n",
       "\n",
       "    .dataframe tbody tr th {\n",
       "        vertical-align: top;\n",
       "    }\n",
       "\n",
       "    .dataframe thead th {\n",
       "        text-align: right;\n",
       "    }\n",
       "</style>\n",
       "<table border=\"1\" class=\"dataframe\">\n",
       "  <thead>\n",
       "    <tr style=\"text-align: right;\">\n",
       "      <th></th>\n",
       "      <th>predictions</th>\n",
       "      <th>actual</th>\n",
       "    </tr>\n",
       "  </thead>\n",
       "  <tbody>\n",
       "    <tr>\n",
       "      <th>0</th>\n",
       "      <td>101.0</td>\n",
       "      <td>105.0</td>\n",
       "    </tr>\n",
       "    <tr>\n",
       "      <th>1</th>\n",
       "      <td>84.0</td>\n",
       "      <td>73.0</td>\n",
       "    </tr>\n",
       "    <tr>\n",
       "      <th>2</th>\n",
       "      <td>35.0</td>\n",
       "      <td>18.0</td>\n",
       "    </tr>\n",
       "    <tr>\n",
       "      <th>3</th>\n",
       "      <td>89.0</td>\n",
       "      <td>67.0</td>\n",
       "    </tr>\n",
       "    <tr>\n",
       "      <th>4</th>\n",
       "      <td>103.0</td>\n",
       "      <td>107.0</td>\n",
       "    </tr>\n",
       "    <tr>\n",
       "      <th>5</th>\n",
       "      <td>92.0</td>\n",
       "      <td>110.0</td>\n",
       "    </tr>\n",
       "    <tr>\n",
       "      <th>6</th>\n",
       "      <td>141.0</td>\n",
       "      <td>128.0</td>\n",
       "    </tr>\n",
       "    <tr>\n",
       "      <th>7</th>\n",
       "      <td>166.0</td>\n",
       "      <td>185.0</td>\n",
       "    </tr>\n",
       "    <tr>\n",
       "      <th>8</th>\n",
       "      <td>120.0</td>\n",
       "      <td>111.0</td>\n",
       "    </tr>\n",
       "    <tr>\n",
       "      <th>9</th>\n",
       "      <td>118.0</td>\n",
       "      <td>120.0</td>\n",
       "    </tr>\n",
       "    <tr>\n",
       "      <th>10</th>\n",
       "      <td>88.0</td>\n",
       "      <td>82.0</td>\n",
       "    </tr>\n",
       "    <tr>\n",
       "      <th>11</th>\n",
       "      <td>71.0</td>\n",
       "      <td>65.0</td>\n",
       "    </tr>\n",
       "    <tr>\n",
       "      <th>12</th>\n",
       "      <td>135.0</td>\n",
       "      <td>142.0</td>\n",
       "    </tr>\n",
       "    <tr>\n",
       "      <th>13</th>\n",
       "      <td>99.0</td>\n",
       "      <td>103.0</td>\n",
       "    </tr>\n",
       "    <tr>\n",
       "      <th>14</th>\n",
       "      <td>112.0</td>\n",
       "      <td>114.0</td>\n",
       "    </tr>\n",
       "    <tr>\n",
       "      <th>15</th>\n",
       "      <td>132.0</td>\n",
       "      <td>138.0</td>\n",
       "    </tr>\n",
       "    <tr>\n",
       "      <th>16</th>\n",
       "      <td>92.0</td>\n",
       "      <td>100.0</td>\n",
       "    </tr>\n",
       "    <tr>\n",
       "      <th>17</th>\n",
       "      <td>138.0</td>\n",
       "      <td>137.0</td>\n",
       "    </tr>\n",
       "  </tbody>\n",
       "</table>\n",
       "</div>"
      ],
      "text/plain": [
       "    predictions  actual\n",
       "0         101.0   105.0\n",
       "1          84.0    73.0\n",
       "2          35.0    18.0\n",
       "3          89.0    67.0\n",
       "4         103.0   107.0\n",
       "5          92.0   110.0\n",
       "6         141.0   128.0\n",
       "7         166.0   185.0\n",
       "8         120.0   111.0\n",
       "9         118.0   120.0\n",
       "10         88.0    82.0\n",
       "11         71.0    65.0\n",
       "12        135.0   142.0\n",
       "13         99.0   103.0\n",
       "14        112.0   114.0\n",
       "15        132.0   138.0\n",
       "16         92.0   100.0\n",
       "17        138.0   137.0"
      ]
     },
     "execution_count": 13,
     "metadata": {},
     "output_type": "execute_result"
    }
   ],
   "source": [
    "pd.DataFrame(data={'predictions': Y_pred.round(), 'actual': y_test})\n"
   ]
  }
 ],
 "metadata": {
  "kernelspec": {
   "display_name": "Python 3",
   "language": "python",
   "name": "python3"
  },
  "language_info": {
   "codemirror_mode": {
    "name": "ipython",
    "version": 3
   },
   "file_extension": ".py",
   "mimetype": "text/x-python",
   "name": "python",
   "nbconvert_exporter": "python",
   "pygments_lexer": "ipython3",
   "version": "3.7.12"
  },
  "papermill": {
   "default_parameters": {},
   "duration": 11.480133,
   "end_time": "2022-09-17T06:52:09.484472",
   "environment_variables": {},
   "exception": null,
   "input_path": "__notebook__.ipynb",
   "output_path": "__notebook__.ipynb",
   "parameters": {},
   "start_time": "2022-09-17T06:51:58.004339",
   "version": "2.3.4"
  }
 },
 "nbformat": 4,
 "nbformat_minor": 5
}
